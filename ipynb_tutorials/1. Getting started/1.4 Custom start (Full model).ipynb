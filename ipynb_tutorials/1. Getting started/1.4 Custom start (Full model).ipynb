{
 "cells": [
  {
   "cell_type": "markdown",
   "id": "897aaa32-0bdf-486d-8f49-464296141f19",
   "metadata": {},
   "source": [
    "## Load library modules"
   ]
  },
  {
   "cell_type": "code",
   "execution_count": null,
   "id": "e96c7955",
   "metadata": {},
   "outputs": [],
   "source": [
    "import os\n",
    "import numpy as np\n",
    "import matplotlib.pyplot as plt\n",
    "\n",
    "default_dir = os.path.dirname(os.path.dirname(os.getcwd()))\n",
    "os.chdir(default_dir)\n",
    "\n",
    "# (Mac) Uncomment below two lines if there's an error with PyJulia setup (initial execution may take some time)\n",
    "# from julia.api import Julia\n",
    "# jl = Julia(compiled_modules=False)\n",
    "\n",
    "from modWorm import sys_paths\n",
    "from modWorm import network_params as n_params\n",
    "from modWorm import network_dynamics as n_dyn\n",
    "from modWorm import network_interactions as n_inter\n",
    "from modWorm import network_simulations as n_sim\n",
    "\n",
    "from modWorm import muscle_body_params as mb_params\n",
    "from modWorm import muscle_dynamics as m_dyn\n",
    "from modWorm import body_dynamics as b_dyn\n",
    "from modWorm import body_simulations as b_sim\n",
    "\n",
    "from modWorm import proprioception_simulation as p_sim\n",
    "\n",
    "from modWorm import utils\n",
    "from modWorm import animation"
   ]
  },
  {
   "cell_type": "markdown",
   "id": "c012bec3-2df6-4c8b-a01c-079ba6e10cae",
   "metadata": {},
   "source": [
    "### Load experimental connectome data\n",
    "- Varshney, Lav R., et al. \"Structural properties of the Caenorhabditis elegans neuronal network.\" PLoS computational biology 7.2 (2011): e1001066.\n",
    "- Haspel, Gal, and Michael J. O'Donovan. \"A perimotor framework reveals functional segmentation in the motoneuronal network controlling locomotion in Caenorhabditis elegans.\n",
    "- Download link: https://www.wormatlas.org/images/NeuronConnect.xls"
   ]
  },
  {
   "cell_type": "markdown",
   "id": "f21365ce-eb8b-4e5d-9b53-f594ebd993fb",
   "metadata": {},
   "source": [
    "### Load neurons to muscles mapping data\n",
    "- WormAtlas, Altun, Z.F., Herndon, L.A., Wolkow, C.A., Crocker, C., Lints, R. and Hall, D.H. (ed.s) 2002-2024.\n",
    "- Download link: https://www.wormatlas.org/images/NeuronFixedPoints.xls\n",
    "- If the file is in old .xls format, make sure to save as .xlsx format"
   ]
  },
  {
   "cell_type": "code",
   "execution_count": null,
   "id": "842aa38a-fb61-4813-bfd0-2889c11088e4",
   "metadata": {},
   "outputs": [],
   "source": [
    "conn_gap, conn_syn = utils.construct_connectome_Varshney(filepath)\n",
    "muscle_map = utils.construct_muscle_map_Hall(filepath)"
   ]
  },
  {
   "cell_type": "markdown",
   "id": "717a868b",
   "metadata": {},
   "source": [
    "## Define Nervous System"
   ]
  },
  {
   "cell_type": "code",
   "execution_count": null,
   "id": "3bca57a0",
   "metadata": {},
   "outputs": [],
   "source": [
    "from modWorm import predefined_classes_nv, predefined_classes_mb\n",
    "\n",
    "celegans_nv = predefined_classes_nv.CelegansWorm_NervousSystem_PPC_Julia(conn_gap, conn_syn)\n",
    "celegans_mb = predefined_classes_mb.CelegansWorm_MuscleBody_PPC_Julia(muscle_map)"
   ]
  },
  {
   "cell_type": "markdown",
   "id": "242ff176-854f-4040-82e1-1f64e6633e75",
   "metadata": {},
   "source": [
    "### Load updated connectome data\n",
    "- Cook, Steven J., et al. \"Whole-animal connectomes of both Caenorhabditis elegans sexes.\" Nature 571.7763 (2019): 63-71.\n",
    "- Haspel, Gal, and Michael J. O'Donovan. \"A perimotor framework reveals functional segmentation in the motoneuronal network controlling locomotion in Caenorhabditis elegans.\n",
    "- Download link: https://www.wormwiring.org/si/SI%205%20Connectome%20adjacency%20matrices,%20corrected%20July%202020.xlsx"
   ]
  },
  {
   "cell_type": "code",
   "execution_count": null,
   "id": "0a6c4532-9925-43db-bb67-40d7cf19ba5e",
   "metadata": {},
   "outputs": [],
   "source": [
    "conn_gap_updated, conn_syn_updated = utils.construct_connectome_Cook(filepath)"
   ]
  },
  {
   "cell_type": "markdown",
   "id": "21f78e00-76bf-41e8-b290-3dfeaa5883ad",
   "metadata": {},
   "source": [
    "## Modify model components"
   ]
  },
  {
   "cell_type": "code",
   "execution_count": null,
   "id": "7bf9fb38-49b2-4468-bbca-cb2719c36bd4",
   "metadata": {},
   "outputs": [],
   "source": [
    "# Using updated connectome data\n",
    "\n",
    "celegans_nv.network_Electrical = n_inter.init_network_Electrical(conn_map = conn_gap_updated, \n",
    "                                                                 conductance_map = np.ones((279, 279)) * 0.1, \n",
    "                                                                 active_mask = np.ones(279, dtype = 'bool'))\n",
    "\n",
    "celegans_nv.network_Chemical = n_inter.init_network_Chemical(conn_map = conn_syn_updated, \n",
    "                                                             conductance_map = np.ones((279, 279)) * 0.1,\n",
    "                                                             polarity_map = n_params.CE.ei_map, \n",
    "                                                             active_mask = np.ones(279, dtype = 'bool'))\n",
    "\n",
    "n_inter.init_vth_Linear(celegans_nv)"
   ]
  },
  {
   "cell_type": "code",
   "execution_count": null,
   "id": "2c5bdeaf-ad4e-4b60-8862-8fa48b058773",
   "metadata": {},
   "outputs": [],
   "source": [
    "# Alternative fluid viscosity parameter\n",
    "\n",
    "celegans_mb.fluid_Viscosity = 0.001 # Default = 0.01 Ns/m^2"
   ]
  },
  {
   "cell_type": "markdown",
   "id": "afb7bd43",
   "metadata": {},
   "source": [
    "## Define Stimulation"
   ]
  },
  {
   "cell_type": "code",
   "execution_count": null,
   "id": "59e6b91b",
   "metadata": {},
   "outputs": [],
   "source": [
    "# We use the pulse of neural stimuli emulating the gentle touch to C.elegans posterior body region\n",
    "# input_mat has dim = (1400, 279) (14 seconds)\n",
    "\n",
    "gentle_posterior_stim = np.load('modWorm/presets_input/input_mat_gentle_post_touch.npy')"
   ]
  },
  {
   "cell_type": "markdown",
   "id": "8ba66888",
   "metadata": {},
   "source": [
    "## Simulate Nervous System"
   ]
  },
  {
   "cell_type": "code",
   "execution_count": null,
   "id": "a3c8d933",
   "metadata": {},
   "outputs": [],
   "source": [
    "# Use run_network() function from \"proprioception_simulation\" module NOT \"network_simulation\" module\n",
    "\n",
    "solution_dict_fwd = p_sim.run_network_julia(celegans_nv, celegans_mb, gentle_posterior_stim)"
   ]
  },
  {
   "cell_type": "markdown",
   "id": "6ad0ae14",
   "metadata": {},
   "source": [
    "## Analyze results"
   ]
  },
  {
   "cell_type": "code",
   "execution_count": null,
   "id": "3bfa1998",
   "metadata": {},
   "outputs": [],
   "source": [
    "# Plot the body trajectory\n",
    "\n",
    "plt.plot(solution_dict_fwd['x_solution'][:, 0], solution_dict_fwd['y_solution'][:, 0])\n",
    "plt.xlim(-50, 50)\n",
    "plt.ylim(-50, 50)"
   ]
  },
  {
   "cell_type": "code",
   "execution_count": null,
   "id": "94495890-9ec9-4577-88be-3f22c3788230",
   "metadata": {},
   "outputs": [],
   "source": [
    "# Animate the simulated worm body\n",
    "\n",
    "animation.animate_body(x = solution_dict_fwd['x_solution'], y = solution_dict_fwd['y_solution'], filename = 'fwd_locomotion_ppc_custom',\n",
    "                       xmin = -70, xmax = 20, ymin = -20, ymax = 70,\n",
    "                       figsize_x = 10, figsize_y = 10, \n",
    "                       background_img_path = False, animation_config = mb_params.CE_animation)"
   ]
  },
  {
   "cell_type": "code",
   "execution_count": null,
   "id": "46166fb3-f79b-4a9c-b03a-8f57ac40d955",
   "metadata": {},
   "outputs": [],
   "source": []
  }
 ],
 "metadata": {
  "kernelspec": {
   "display_name": "Python 3 (ipykernel)",
   "language": "python",
   "name": "python3"
  },
  "language_info": {
   "codemirror_mode": {
    "name": "ipython",
    "version": 3
   },
   "file_extension": ".py",
   "mimetype": "text/x-python",
   "name": "python",
   "nbconvert_exporter": "python",
   "pygments_lexer": "ipython3",
   "version": "3.12.3"
  }
 },
 "nbformat": 4,
 "nbformat_minor": 5
}

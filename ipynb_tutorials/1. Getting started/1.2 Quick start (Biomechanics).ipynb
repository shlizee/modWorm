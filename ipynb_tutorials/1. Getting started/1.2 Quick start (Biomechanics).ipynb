{
 "cells": [
  {
   "cell_type": "markdown",
   "id": "d3280407-25dd-42fc-b1c0-e13e3c15a4c4",
   "metadata": {},
   "source": [
    "## Load library modules"
   ]
  },
  {
   "cell_type": "code",
   "execution_count": null,
   "id": "e96c7955",
   "metadata": {},
   "outputs": [],
   "source": [
    "import os\n",
    "import numpy as np\n",
    "import matplotlib.pyplot as plt\n",
    "\n",
    "default_dir = os.path.dirname(os.path.dirname(os.getcwd()))\n",
    "os.chdir(default_dir)\n",
    "\n",
    "# (Mac) Uncomment below two lines if there's an error with PyJulia setup (initial execution may take some time)\n",
    "# from julia.api import Julia\n",
    "# jl = Julia(compiled_modules=False)\n",
    "\n",
    "from modWorm import sys_paths\n",
    "from modWorm import network_params as n_params\n",
    "from modWorm import network_dynamics as n_dyn\n",
    "from modWorm import network_interactions as n_inter\n",
    "from modWorm import network_simulations as n_sim\n",
    "\n",
    "from modWorm import muscle_body_params as mb_params\n",
    "from modWorm import muscle_dynamics as m_dyn\n",
    "from modWorm import body_dynamics as b_dyn\n",
    "from modWorm import body_simulations as b_sim\n",
    "\n",
    "from modWorm import animation\n",
    "from modWorm import utils"
   ]
  },
  {
   "cell_type": "markdown",
   "id": "07c3940b-a2b6-41f6-b441-20e50a2bae39",
   "metadata": {},
   "source": [
    "### Load experimental connectome data\n",
    "- Varshney, Lav R., et al. \"Structural properties of the Caenorhabditis elegans neuronal network.\" PLoS computational biology 7.2 (2011): e1001066.\n",
    "- Haspel, Gal, and Michael J. O'Donovan. \"A perimotor framework reveals functional segmentation in the motoneuronal network controlling locomotion in Caenorhabditis elegans.\n",
    "- Download link: https://www.wormatlas.org/images/NeuronConnect.xls"
   ]
  },
  {
   "cell_type": "markdown",
   "id": "e2d960b2-a6b9-4de8-a8f1-9b5897bc0f45",
   "metadata": {},
   "source": [
    "### Load neurons to muscles mapping data\n",
    "- WormAtlas, Altun, Z.F., Herndon, L.A., Wolkow, C.A., Crocker, C., Lints, R. and Hall, D.H. (ed.s) 2002-2024.\n",
    "- Download link: https://www.wormatlas.org/images/NeuronFixedPoints.xls\n",
    "- If the file is in old .xls format, make sure to save as .xlsx format"
   ]
  },
  {
   "cell_type": "code",
   "execution_count": null,
   "id": "d165037a-8d00-4247-b97e-f8f47736eab0",
   "metadata": {},
   "outputs": [],
   "source": [
    "# Construct gap, synaptic connectomes and muscle map from downloaded files\n",
    "conn_gap, conn_syn = utils.construct_connectome_Varshney(filepath)\n",
    "muscle_map = utils.construct_muscle_map_Hall(filepath)"
   ]
  },
  {
   "cell_type": "markdown",
   "id": "717a868b",
   "metadata": {},
   "source": [
    "## Load pre-defined Nervous System model"
   ]
  },
  {
   "cell_type": "code",
   "execution_count": null,
   "id": "3bca57a0",
   "metadata": {},
   "outputs": [],
   "source": [
    "from modWorm import predefined_classes_nv, predefined_classes_mb\n",
    "\n",
    "celegans_nv = predefined_classes_nv.CelegansWorm_NervousSystem_Julia(conn_gap, conn_syn)          # Define nervous system class\n",
    "celegans_mb = predefined_classes_mb.CelegansWorm_MuscleBody_Julia(muscle_map)                     # Define muscle + body class\n",
    "                                                                                                  # Julia versions are used to accelerate simulations"
   ]
  },
  {
   "cell_type": "markdown",
   "id": "afb7bd43",
   "metadata": {},
   "source": [
    "## Define Stimulation"
   ]
  },
  {
   "cell_type": "code",
   "execution_count": null,
   "id": "59e6b91b",
   "metadata": {},
   "outputs": [],
   "source": [
    "PLM_neuron_inds = utils.neuron_names_2_inds(['PLML', 'PLMR'])"
   ]
  },
  {
   "cell_type": "code",
   "execution_count": null,
   "id": "3885b5c3-eaf1-4354-9b03-8b504b20bf71",
   "metadata": {},
   "outputs": [],
   "source": [
    "simulation_time = 15                                           # Simulation duration in seconds\n",
    "simulation_steps = int(simulation_time/celegans_nv.timescale)  # Total number of timesteps\n",
    "                                                               # Note this should be associated with timescale defined above\n",
    "\n",
    "input_mat = np.zeros((simulation_steps, celegans_nv.network_Size))   # External input for the period of 5 seconds \n",
    "input_mat[:, PLM_neuron_inds] = 2000                                 # Inject 2000pA (2nA) into PLML/R (276, 278th neurons)"
   ]
  },
  {
   "cell_type": "markdown",
   "id": "8ba66888",
   "metadata": {},
   "source": [
    "## Simulate Nervous System"
   ]
  },
  {
   "cell_type": "code",
   "execution_count": null,
   "id": "a3c8d933",
   "metadata": {},
   "outputs": [],
   "source": [
    "solution_dict_nv = n_sim.run_network_julia(celegans_nv, input_mat)"
   ]
  },
  {
   "cell_type": "markdown",
   "id": "6986afc2-4115-4a94-b32b-a42e85a24f25",
   "metadata": {},
   "source": [
    "## Simulate Biomechanics"
   ]
  },
  {
   "cell_type": "code",
   "execution_count": null,
   "id": "2c1a140f-a130-4ea2-bc8c-69a52aa800b2",
   "metadata": {},
   "outputs": [],
   "source": [
    "solution_dict_mb = b_sim.run_body_julia(celegans_mb, celegans_nv, solution_dict_nv)"
   ]
  },
  {
   "cell_type": "markdown",
   "id": "6ad0ae14",
   "metadata": {},
   "source": [
    "## Analyze results"
   ]
  },
  {
   "cell_type": "code",
   "execution_count": null,
   "id": "5ba5b00b-1d5c-4f15-9a21-b2a03e6791e0",
   "metadata": {},
   "outputs": [],
   "source": [
    "print(solution_dict_mb.keys()) # solution_dict has 5 keys\n",
    "                               # raw_x, raw_y -> original x,y solutions for 24 segments\n",
    "                               # x, y -> post-processed x,y solutions extrapolated to 192 segments"
   ]
  },
  {
   "cell_type": "code",
   "execution_count": null,
   "id": "3bfa1998",
   "metadata": {},
   "outputs": [],
   "source": [
    "# Use post-processed x and y solution (x_solution and y_solution) to visualize the body trajectory\n",
    "plt.plot(solution_dict_mb['x_solution'][:, 0], solution_dict_mb['y_solution'][:, 0])\n",
    "plt.ylim(-10, 10)\n",
    "plt.xlim(-15, 5)"
   ]
  },
  {
   "cell_type": "code",
   "execution_count": null,
   "id": "94495890-9ec9-4577-88be-3f22c3788230",
   "metadata": {},
   "outputs": [],
   "source": [
    "# Create a video of body dynamics\n",
    "animation.animate_body(x = solution_dict_mb['x_solution'], y = solution_dict_mb['y_solution'], filename = 'fwd_locomotion',\n",
    "                       xmin = -50, xmax = 50, ymin = -50, ymax = 50,\n",
    "                       figsize_x = 10, figsize_y = 10, \n",
    "                       background_img_path = False, animation_config = mb_params.CE_animation)"
   ]
  },
  {
   "cell_type": "code",
   "execution_count": null,
   "id": "8bbb9476-96f9-40c5-9432-724e7296fe8b",
   "metadata": {},
   "outputs": [],
   "source": []
  }
 ],
 "metadata": {
  "kernelspec": {
   "display_name": "Python 3 (ipykernel)",
   "language": "python",
   "name": "python3"
  },
  "language_info": {
   "codemirror_mode": {
    "name": "ipython",
    "version": 3
   },
   "file_extension": ".py",
   "mimetype": "text/x-python",
   "name": "python",
   "nbconvert_exporter": "python",
   "pygments_lexer": "ipython3",
   "version": "3.12.3"
  }
 },
 "nbformat": 4,
 "nbformat_minor": 5
}

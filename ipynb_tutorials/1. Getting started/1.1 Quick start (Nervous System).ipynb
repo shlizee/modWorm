{
 "cells": [
  {
   "cell_type": "markdown",
   "id": "0add6284-ee4e-4243-b43d-03d571c9b00f",
   "metadata": {},
   "source": [
    "## Load library modules"
   ]
  },
  {
   "cell_type": "code",
   "execution_count": null,
   "id": "e96c7955",
   "metadata": {},
   "outputs": [],
   "source": [
    "import os\n",
    "import numpy as np\n",
    "import matplotlib.pyplot as plt\n",
    "\n",
    "default_dir = os.path.dirname(os.path.dirname(os.getcwd()))\n",
    "os.chdir(default_dir)\n",
    "\n",
    "# (Mac) Uncomment below two lines if there's an error with PyJulia setup (initial execution may take some time)\n",
    "# from julia.api import Julia\n",
    "# jl = Julia(compiled_modules=False)\n",
    "\n",
    "# Import neccessary modules\n",
    "from modWorm import sys_paths\n",
    "from modWorm import network_params as n_params\n",
    "from modWorm import network_dynamics as n_dyn\n",
    "from modWorm import network_interactions as n_inter\n",
    "from modWorm import network_simulations as n_sim\n",
    "\n",
    "from modWorm import utils"
   ]
  },
  {
   "cell_type": "markdown",
   "id": "6dffc91d-fe22-495c-85fe-886057827582",
   "metadata": {},
   "source": [
    "### Load experimental connectome data\n",
    "- Varshney, Lav R., et al. \"Structural properties of the Caenorhabditis elegans neuronal network.\" PLoS computational biology 7.2 (2011): e1001066.\n",
    "- Haspel, Gal, and Michael J. O'Donovan. \"A perimotor framework reveals functional segmentation in the motoneuronal network controlling locomotion in Caenorhabditis elegans.\"\n",
    "- Download link: https://www.wormatlas.org/images/NeuronConnect.xls\n",
    "- If the file is in old .xls format, make sure to save as .xlsx format"
   ]
  },
  {
   "cell_type": "code",
   "execution_count": null,
   "id": "07bb9387-5e17-4f10-8d1c-5ef9d8c8a18d",
   "metadata": {},
   "outputs": [],
   "source": [
    "# filepath example: 'C:\\\\Users\\\\xyz\\\\Downloads\\\\filename.xlsx'\n",
    "conn_gap, conn_syn = utils.construct_connectome_Varshney(filepath)"
   ]
  },
  {
   "cell_type": "markdown",
   "id": "717a868b",
   "metadata": {},
   "source": [
    "## Load pre-defined Nervous System model"
   ]
  },
  {
   "cell_type": "code",
   "execution_count": null,
   "id": "3bca57a0",
   "metadata": {},
   "outputs": [],
   "source": [
    "from modWorm import predefined_classes_nv\n",
    "\n",
    "celegans_nv = predefined_classes_nv.CelegansWorm_NervousSystem(conn_gap, conn_syn) # Base nervous system model"
   ]
  },
  {
   "cell_type": "markdown",
   "id": "afb7bd43",
   "metadata": {},
   "source": [
    "## Define Stimulation"
   ]
  },
  {
   "cell_type": "code",
   "execution_count": null,
   "id": "59e6b91b",
   "metadata": {},
   "outputs": [],
   "source": [
    "PLM_neuron_inds = utils.neuron_names_2_inds(['PLML', 'PLMR'])   # Find neuron indices for C.elegans neurons"
   ]
  },
  {
   "cell_type": "code",
   "execution_count": null,
   "id": "3885b5c3-eaf1-4354-9b03-8b504b20bf71",
   "metadata": {},
   "outputs": [],
   "source": [
    "simulation_time = 5                                             # Simulation duration in seconds\n",
    "simulation_steps = int(simulation_time/celegans_nv.timescale)   # Total number of timesteps (default timestep: 0.01s)\n",
    "                                                                # Note this should be associated with timescale defined above\n",
    "\n",
    "input_mat = np.zeros((simulation_steps, celegans_nv.network_Size))   # Create external input for the period of 5 seconds (timesteps * 279 neurons)\n",
    "input_mat[:, PLM_neuron_inds] = 2000                                 # Inject 2000pA (2nA) into PLML/R (276, 278th neurons)"
   ]
  },
  {
   "cell_type": "markdown",
   "id": "8ba66888",
   "metadata": {},
   "source": [
    "## Simulate Nervous System"
   ]
  },
  {
   "cell_type": "code",
   "execution_count": null,
   "id": "a3c8d933",
   "metadata": {},
   "outputs": [],
   "source": [
    "# Use run_network() function from \"network_simulation\" module\n",
    "# RuntimeWarning: overflow encountered is normal due to the activity stabilization in the beginning of simulation\n",
    "\n",
    "solution_dict = n_sim.run_network(celegans_nv, input_mat)"
   ]
  },
  {
   "cell_type": "markdown",
   "id": "6ad0ae14",
   "metadata": {},
   "source": [
    "## Analyze results"
   ]
  },
  {
   "cell_type": "code",
   "execution_count": null,
   "id": "5ba5b00b-1d5c-4f15-9a21-b2a03e6791e0",
   "metadata": {},
   "outputs": [],
   "source": [
    "print(solution_dict.keys())             # solution_dict has 3 keys"
   ]
  },
  {
   "cell_type": "code",
   "execution_count": null,
   "id": "3bfa1998",
   "metadata": {},
   "outputs": [],
   "source": [
    "v_sol = solution_dict['v_solution'].T   # Un-normalized voltage solution (t x network_Size)\n",
    "\n",
    "s_sol = solution_dict['s_solution'].T   # Synaptic activity solution     (t x network_Size)\n",
    "                                        #                                (ranges from 0 - 1)\n",
    "                                        #                                (0: neuron's synapses not activated)\n",
    "                                        #                                (1: neuron's synapses full activated)\n",
    "            \n",
    "vthmat = solution_dict['v_threshold'].T # Resting voltage solution       (t x network_Size)\n",
    "\n",
    "delta_v = v_sol - vthmat                # Normalized voltage is voltage displacement from resting voltage"
   ]
  },
  {
   "cell_type": "code",
   "execution_count": null,
   "id": "94495890-9ec9-4577-88be-3f22c3788230",
   "metadata": {},
   "outputs": [],
   "source": [
    "# Plot the normalized voltages using pcolor\n",
    "\n",
    "fig = plt.figure(figsize=(7.5, 4))\n",
    "plt.pcolor(delta_v, cmap='bwr', vmin = -10, vmax = 10)\n",
    "plt.xlabel(\"10 ms\")\n",
    "plt.ylabel(\"Neurons\")\n",
    "plt.ylim(279, 0)\n",
    "plt.colorbar()"
   ]
  }
 ],
 "metadata": {
  "kernelspec": {
   "display_name": "Python 3 (ipykernel)",
   "language": "python",
   "name": "python3"
  },
  "language_info": {
   "codemirror_mode": {
    "name": "ipython",
    "version": 3
   },
   "file_extension": ".py",
   "mimetype": "text/x-python",
   "name": "python",
   "nbconvert_exporter": "python",
   "pygments_lexer": "ipython3",
   "version": "3.12.3"
  }
 },
 "nbformat": 4,
 "nbformat_minor": 5
}
